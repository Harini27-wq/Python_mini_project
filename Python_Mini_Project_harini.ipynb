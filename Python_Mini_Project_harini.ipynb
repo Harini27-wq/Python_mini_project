{
 "cells": [
  {
   "cell_type": "code",
   "execution_count": 9,
   "id": "0b12df92-776b-4bf0-b0ce-db38d9099c0e",
   "metadata": {},
   "outputs": [
    {
     "name": "stdout",
     "output_type": "stream",
     "text": [
      "Welcome to Stone-Paper-Scissors Game \n",
      "Choices: stone, paper, scissors\n"
     ]
    },
    {
     "name": "stdin",
     "output_type": "stream",
     "text": [
      "Enter your choice:  paper\n"
     ]
    },
    {
     "name": "stdout",
     "output_type": "stream",
     "text": [
      "\n",
      "You chose: paper\n",
      "Computer chose: scissors\n",
      "\n",
      " Oops!! Computer wins! \n"
     ]
    }
   ],
   "source": [
    "# Stone-Paper-Scissors Game covering all cases\n",
    "import random\n",
    "\n",
    "print(\"Welcome to Stone-Paper-Scissors Game \")\n",
    "print(\"Choices: stone, paper, scissors\")\n",
    "\n",
    "options = [\"stone\", \"paper\", \"scissors\"]\n",
    "\n",
    "# Get user input\n",
    "user_choice = input(\"Enter your choice: \").lower()\n",
    "\n",
    "# Validate user input\n",
    "if user_choice not in options:\n",
    "    print(\"Invalid choice! Please type 'stone', 'paper', or 'scissors'.\")\n",
    "else:\n",
    "    # Computer randomly picks a choice\n",
    "    computer_choice = random.choice(options)\n",
    "    print(f\"\\nYou chose: {user_choice}\")\n",
    "    print(f\"Computer chose: {computer_choice}\\n\")\n",
    "\n",
    "    # Decide the winner for all cases\n",
    "    if user_choice == computer_choice:\n",
    "        print(\"It's a tie! \")\n",
    "    elif (user_choice == \"stone\" and computer_choice == \"scissors\") or \\\n",
    "         (user_choice == \"paper\" and computer_choice == \"stone\") or \\\n",
    "         (user_choice == \"scissors\" and computer_choice == \"paper\"):\n",
    "        print(\" Congratulations You win! \")\n",
    "    else:\n",
    "        print(\" Oops!! Computer wins! \")\n"
   ]
  },
  {
   "cell_type": "code",
   "execution_count": null,
   "id": "c5c8941f-2c5a-4479-8783-ffa017409975",
   "metadata": {},
   "outputs": [],
   "source": []
  }
 ],
 "metadata": {
  "kernelspec": {
   "display_name": "Python 3 (ipykernel)",
   "language": "python",
   "name": "python3"
  },
  "language_info": {
   "codemirror_mode": {
    "name": "ipython",
    "version": 3
   },
   "file_extension": ".py",
   "mimetype": "text/x-python",
   "name": "python",
   "nbconvert_exporter": "python",
   "pygments_lexer": "ipython3",
   "version": "3.12.4"
  }
 },
 "nbformat": 4,
 "nbformat_minor": 5
}
